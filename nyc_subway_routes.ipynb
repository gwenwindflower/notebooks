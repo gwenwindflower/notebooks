{
  "nbformat": 4,
  "nbformat_minor": 0,
  "metadata": {
    "colab": {
      "provenance": [],
      "toc_visible": true,
      "authorship_tag": "ABX9TyNxF3SNTj1XnBTZxZQmMD/S",
      "include_colab_link": true
    },
    "kernelspec": {
      "name": "python3",
      "display_name": "Python 3"
    },
    "language_info": {
      "name": "python"
    }
  },
  "cells": [
    {
      "cell_type": "markdown",
      "metadata": {
        "id": "view-in-github",
        "colab_type": "text"
      },
      "source": [
        "<a href=\"https://colab.research.google.com/github/gwenwindflower/notebooks/blob/main/nyc_subway_routes.ipynb\" target=\"_parent\"><img src=\"https://colab.research.google.com/assets/colab-badge.svg\" alt=\"Open In Colab\"/></a>"
      ]
    },
    {
      "cell_type": "code",
      "source": [
        "from google.colab import auth\n",
        "auth.authenticate_user()\n"
      ],
      "metadata": {
        "id": "xiRVNeZfn09k"
      },
      "execution_count": 61,
      "outputs": []
    },
    {
      "cell_type": "code",
      "source": [
        "import pandas as pd\n",
        "\n",
        "project_id = 'dbt-bq-public-datasets'\n",
        "\n",
        "df = pd.io.gbq.read_gbq('''\n",
        "  SELECT * FROM `bigquery-public-data.new_york_subway.routes`\n",
        "''', project_id=project_id)\n"
      ],
      "metadata": {
        "id": "v7zE3cVMn09l"
      },
      "execution_count": 62,
      "outputs": []
    },
    {
      "cell_type": "code",
      "source": [
        "df.route_long_name"
      ],
      "metadata": {
        "colab": {
          "base_uri": "https://localhost:8080/"
        },
        "id": "2FtL30ASn09l",
        "outputId": "5b6d0da5-ef21-487b-8ec9-451fc5c617ce"
      },
      "execution_count": 65,
      "outputs": [
        {
          "output_type": "execute_result",
          "data": {
            "text/plain": [
              "0                       42 St Shuttle\n",
              "1                      8 Avenue Local\n",
              "2                      8 Avenue Local\n",
              "3                      Broadway Local\n",
              "4                      Broadway Local\n",
              "5                      Broadway Local\n",
              "6                      Flushing Local\n",
              "7                     Nassau St Local\n",
              "8                    6 Avenue Express\n",
              "9                    6 Avenue Express\n",
              "10                   7 Avenue Express\n",
              "11                   7 Avenue Express\n",
              "12                   8 Avenue Express\n",
              "13                   Broadway Express\n",
              "14                   Flushing Express\n",
              "15                  Nassau St Express\n",
              "16                 Brooklyn F Express\n",
              "17               14 St-Canarsie Local\n",
              "18              Rockaway Park Shuttle\n",
              "19             Lexington Avenue Local\n",
              "20            Franklin Avenue Shuttle\n",
              "21            Pelham Bay Park Express\n",
              "22           Lexington Avenue Express\n",
              "23           Lexington Avenue Express\n",
              "24           Lexington Avenue Express\n",
              "25          Broadway - 7 Avenue Local\n",
              "26          Brooklyn-Queens Crosstown\n",
              "27       Queens Blvd Local/6 Av Local\n",
              "28    Queens Blvd Express/ 6 Av Local\n",
              "29              Staten Island Railway\n",
              "Name: route_long_name, dtype: object"
            ]
          },
          "metadata": {},
          "execution_count": 65
        }
      ]
    }
  ]
}