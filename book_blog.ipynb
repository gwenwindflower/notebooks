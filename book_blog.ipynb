{
  "nbformat": 4,
  "nbformat_minor": 0,
  "metadata": {
    "colab": {
      "provenance": [],
      "authorship_tag": "ABX9TyO9vyCA2W1ewUb7Goof5VIt",
      "include_colab_link": true
    },
    "kernelspec": {
      "name": "python3",
      "display_name": "Python 3"
    },
    "language_info": {
      "name": "python"
    }
  },
  "cells": [
    {
      "cell_type": "markdown",
      "metadata": {
        "id": "view-in-github",
        "colab_type": "text"
      },
      "source": [
        "<a href=\"https://colab.research.google.com/github/gwenwindflower/notebooks/blob/main/book_blog.ipynb\" target=\"_parent\"><img src=\"https://colab.research.google.com/assets/colab-badge.svg\" alt=\"Open In Colab\"/></a>"
      ]
    },
    {
      "cell_type": "code",
      "source": [
        "import requests\n",
        "import json\n",
        "import pandas as pd\n",
        "import matplotlib.pyplot as plt"
      ],
      "metadata": {
        "id": "51J33LCYzQy1"
      },
      "execution_count": 10,
      "outputs": []
    },
    {
      "cell_type": "code",
      "source": [
        "response = requests.get('https://gwenwindflower.github.io/api/books')"
      ],
      "metadata": {
        "id": "salMQAlzzG6-"
      },
      "execution_count": 13,
      "outputs": []
    },
    {
      "cell_type": "markdown",
      "source": [
        "The below cell selects the response text, which has the data itself from the api, and runs it through `json.loads` to make it readable json in python. Then we use pandas' `normalize_json` to unnest the nested json dictionaries into flat rows."
      ],
      "metadata": {
        "id": "W45RukwlSkmd"
      }
    },
    {
      "cell_type": "code",
      "source": [
        "books = pd.json_normalize(json.loads(response.text))"
      ],
      "metadata": {
        "id": "_MnGgBEt2oz8"
      },
      "execution_count": 15,
      "outputs": []
    },
    {
      "cell_type": "code",
      "source": [
        "books"
      ],
      "metadata": {
        "id": "YJIa7AuK2xd0",
        "outputId": "55b8f0db-da61-42f3-9b68-ef9faff50058",
        "colab": {
          "base_uri": "https://localhost:8080/",
          "height": 206
        }
      },
      "execution_count": 16,
      "outputs": [
        {
          "output_type": "execute_result",
          "data": {
            "text/plain": [
              "                                path                  meta.title  \\\n",
              "0                /books/frankenstein                Frankenstein   \n",
              "1      /books/girl-with-curious-hair      Girl with Curious Hair   \n",
              "2                  /books/autonomous                  Autonomous   \n",
              "3  /books/her-body-and-other-parties  Her Body and Other Parties   \n",
              "4          /books/the-blind-assassin          The Blind Assassin   \n",
              "\n",
              "            meta.author              meta.genres            meta.updatedAt  \\\n",
              "0          Mary Shelley                 [horror]  2023-01-05T00:00:00.000Z   \n",
              "1  David Foster Wallace          [short stories]  2023-01-05T00:00:00.000Z   \n",
              "2        Annalee Newitz                 [sci-fi]  2022-01-04T00:00:00.000Z   \n",
              "3  Carmen Maria Machado  [horror, short stories]  2022-01-04T00:00:00.000Z   \n",
              "4       Margaret Atwood                 [modern]  2022-01-04T00:00:00.000Z   \n",
              "\n",
              "  meta.status  \n",
              "0         NaN  \n",
              "1         NaN  \n",
              "2         NaN  \n",
              "3         NaN  \n",
              "4      paused  "
            ],
            "text/html": [
              "\n",
              "  <div id=\"df-d75610c8-4f59-46d8-8548-2b6b5ec34b33\">\n",
              "    <div class=\"colab-df-container\">\n",
              "      <div>\n",
              "<style scoped>\n",
              "    .dataframe tbody tr th:only-of-type {\n",
              "        vertical-align: middle;\n",
              "    }\n",
              "\n",
              "    .dataframe tbody tr th {\n",
              "        vertical-align: top;\n",
              "    }\n",
              "\n",
              "    .dataframe thead th {\n",
              "        text-align: right;\n",
              "    }\n",
              "</style>\n",
              "<table border=\"1\" class=\"dataframe\">\n",
              "  <thead>\n",
              "    <tr style=\"text-align: right;\">\n",
              "      <th></th>\n",
              "      <th>path</th>\n",
              "      <th>meta.title</th>\n",
              "      <th>meta.author</th>\n",
              "      <th>meta.genres</th>\n",
              "      <th>meta.updatedAt</th>\n",
              "      <th>meta.status</th>\n",
              "    </tr>\n",
              "  </thead>\n",
              "  <tbody>\n",
              "    <tr>\n",
              "      <th>0</th>\n",
              "      <td>/books/frankenstein</td>\n",
              "      <td>Frankenstein</td>\n",
              "      <td>Mary Shelley</td>\n",
              "      <td>[horror]</td>\n",
              "      <td>2023-01-05T00:00:00.000Z</td>\n",
              "      <td>NaN</td>\n",
              "    </tr>\n",
              "    <tr>\n",
              "      <th>1</th>\n",
              "      <td>/books/girl-with-curious-hair</td>\n",
              "      <td>Girl with Curious Hair</td>\n",
              "      <td>David Foster Wallace</td>\n",
              "      <td>[short stories]</td>\n",
              "      <td>2023-01-05T00:00:00.000Z</td>\n",
              "      <td>NaN</td>\n",
              "    </tr>\n",
              "    <tr>\n",
              "      <th>2</th>\n",
              "      <td>/books/autonomous</td>\n",
              "      <td>Autonomous</td>\n",
              "      <td>Annalee Newitz</td>\n",
              "      <td>[sci-fi]</td>\n",
              "      <td>2022-01-04T00:00:00.000Z</td>\n",
              "      <td>NaN</td>\n",
              "    </tr>\n",
              "    <tr>\n",
              "      <th>3</th>\n",
              "      <td>/books/her-body-and-other-parties</td>\n",
              "      <td>Her Body and Other Parties</td>\n",
              "      <td>Carmen Maria Machado</td>\n",
              "      <td>[horror, short stories]</td>\n",
              "      <td>2022-01-04T00:00:00.000Z</td>\n",
              "      <td>NaN</td>\n",
              "    </tr>\n",
              "    <tr>\n",
              "      <th>4</th>\n",
              "      <td>/books/the-blind-assassin</td>\n",
              "      <td>The Blind Assassin</td>\n",
              "      <td>Margaret Atwood</td>\n",
              "      <td>[modern]</td>\n",
              "      <td>2022-01-04T00:00:00.000Z</td>\n",
              "      <td>paused</td>\n",
              "    </tr>\n",
              "  </tbody>\n",
              "</table>\n",
              "</div>\n",
              "      <button class=\"colab-df-convert\" onclick=\"convertToInteractive('df-d75610c8-4f59-46d8-8548-2b6b5ec34b33')\"\n",
              "              title=\"Convert this dataframe to an interactive table.\"\n",
              "              style=\"display:none;\">\n",
              "        \n",
              "  <svg xmlns=\"http://www.w3.org/2000/svg\" height=\"24px\"viewBox=\"0 0 24 24\"\n",
              "       width=\"24px\">\n",
              "    <path d=\"M0 0h24v24H0V0z\" fill=\"none\"/>\n",
              "    <path d=\"M18.56 5.44l.94 2.06.94-2.06 2.06-.94-2.06-.94-.94-2.06-.94 2.06-2.06.94zm-11 1L8.5 8.5l.94-2.06 2.06-.94-2.06-.94L8.5 2.5l-.94 2.06-2.06.94zm10 10l.94 2.06.94-2.06 2.06-.94-2.06-.94-.94-2.06-.94 2.06-2.06.94z\"/><path d=\"M17.41 7.96l-1.37-1.37c-.4-.4-.92-.59-1.43-.59-.52 0-1.04.2-1.43.59L10.3 9.45l-7.72 7.72c-.78.78-.78 2.05 0 2.83L4 21.41c.39.39.9.59 1.41.59.51 0 1.02-.2 1.41-.59l7.78-7.78 2.81-2.81c.8-.78.8-2.07 0-2.86zM5.41 20L4 18.59l7.72-7.72 1.47 1.35L5.41 20z\"/>\n",
              "  </svg>\n",
              "      </button>\n",
              "      \n",
              "  <style>\n",
              "    .colab-df-container {\n",
              "      display:flex;\n",
              "      flex-wrap:wrap;\n",
              "      gap: 12px;\n",
              "    }\n",
              "\n",
              "    .colab-df-convert {\n",
              "      background-color: #E8F0FE;\n",
              "      border: none;\n",
              "      border-radius: 50%;\n",
              "      cursor: pointer;\n",
              "      display: none;\n",
              "      fill: #1967D2;\n",
              "      height: 32px;\n",
              "      padding: 0 0 0 0;\n",
              "      width: 32px;\n",
              "    }\n",
              "\n",
              "    .colab-df-convert:hover {\n",
              "      background-color: #E2EBFA;\n",
              "      box-shadow: 0px 1px 2px rgba(60, 64, 67, 0.3), 0px 1px 3px 1px rgba(60, 64, 67, 0.15);\n",
              "      fill: #174EA6;\n",
              "    }\n",
              "\n",
              "    [theme=dark] .colab-df-convert {\n",
              "      background-color: #3B4455;\n",
              "      fill: #D2E3FC;\n",
              "    }\n",
              "\n",
              "    [theme=dark] .colab-df-convert:hover {\n",
              "      background-color: #434B5C;\n",
              "      box-shadow: 0px 1px 3px 1px rgba(0, 0, 0, 0.15);\n",
              "      filter: drop-shadow(0px 1px 2px rgba(0, 0, 0, 0.3));\n",
              "      fill: #FFFFFF;\n",
              "    }\n",
              "  </style>\n",
              "\n",
              "      <script>\n",
              "        const buttonEl =\n",
              "          document.querySelector('#df-d75610c8-4f59-46d8-8548-2b6b5ec34b33 button.colab-df-convert');\n",
              "        buttonEl.style.display =\n",
              "          google.colab.kernel.accessAllowed ? 'block' : 'none';\n",
              "\n",
              "        async function convertToInteractive(key) {\n",
              "          const element = document.querySelector('#df-d75610c8-4f59-46d8-8548-2b6b5ec34b33');\n",
              "          const dataTable =\n",
              "            await google.colab.kernel.invokeFunction('convertToInteractive',\n",
              "                                                     [key], {});\n",
              "          if (!dataTable) return;\n",
              "\n",
              "          const docLinkHtml = 'Like what you see? Visit the ' +\n",
              "            '<a target=\"_blank\" href=https://colab.research.google.com/notebooks/data_table.ipynb>data table notebook</a>'\n",
              "            + ' to learn more about interactive tables.';\n",
              "          element.innerHTML = '';\n",
              "          dataTable['output_type'] = 'display_data';\n",
              "          await google.colab.output.renderOutput(dataTable, element);\n",
              "          const docLink = document.createElement('div');\n",
              "          docLink.innerHTML = docLinkHtml;\n",
              "          element.appendChild(docLink);\n",
              "        }\n",
              "      </script>\n",
              "    </div>\n",
              "  </div>\n",
              "  "
            ]
          },
          "metadata": {},
          "execution_count": 16
        }
      ]
    }
  ]
}